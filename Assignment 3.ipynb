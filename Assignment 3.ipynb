{
 "cells": [
  {
   "cell_type": "code",
   "execution_count": 66,
   "metadata": {
    "colab": {
     "base_uri": "https://localhost:8080/"
    },
    "executionInfo": {
     "elapsed": 1444,
     "status": "ok",
     "timestamp": 1609328745966,
     "user": {
      "displayName": "Vinod Biradar",
      "photoUrl": "https://lh3.googleusercontent.com/a-/AOh14GinxZUaidTld_evhf3s6UffIPhMCZta8XcRRXBVWg=s64",
      "userId": "15637846803424639612"
     },
     "user_tz": -330
    },
    "id": "JeRSqep1xbpV",
    "outputId": "bb6337f5-b736-4678-bbe6-75c8123a2cfc"
   },
   "outputs": [
    {
     "data": {
      "text/plain": [
       "45"
      ]
     },
     "execution_count": 66,
     "metadata": {
      "tags": []
     },
     "output_type": "execute_result"
    }
   ],
   "source": [
    "'''1.1 Write a Python Program to implement your own myreduce() function which works exactly  like Python's built-in function reduce() '''\n",
    "\n",
    "from functools import reduce\n",
    "import operator\n",
    "l = [1,2,3,4,5,6,7,8,9]\n",
    "reduce(operator.add,l)"
   ]
  },
  {
   "cell_type": "code",
   "execution_count": 92,
   "metadata": {
    "executionInfo": {
     "elapsed": 1082,
     "status": "ok",
     "timestamp": 1609329167262,
     "user": {
      "displayName": "Vinod Biradar",
      "photoUrl": "https://lh3.googleusercontent.com/a-/AOh14GinxZUaidTld_evhf3s6UffIPhMCZta8XcRRXBVWg=s64",
      "userId": "15637846803424639612"
     },
     "user_tz": -330
    },
    "id": "dLXQKzUpahWX"
   },
   "outputs": [],
   "source": [
    "def addi(iterable):\n",
    "  ad = 0\n",
    "  for i in iterable:\n",
    "    ad = ad+i\n",
    "    \n",
    "  print(ad)"
   ]
  },
  {
   "cell_type": "code",
   "execution_count": 95,
   "metadata": {
    "executionInfo": {
     "elapsed": 1371,
     "status": "ok",
     "timestamp": 1609329197673,
     "user": {
      "displayName": "Vinod Biradar",
      "photoUrl": "https://lh3.googleusercontent.com/a-/AOh14GinxZUaidTld_evhf3s6UffIPhMCZta8XcRRXBVWg=s64",
      "userId": "15637846803424639612"
     },
     "user_tz": -330
    },
    "id": "pWMA9Vpd5cTv"
   },
   "outputs": [],
   "source": [
    "def myreduce(fun,it):\n",
    "  f = fun(it)"
   ]
  },
  {
   "cell_type": "code",
   "execution_count": 96,
   "metadata": {
    "colab": {
     "base_uri": "https://localhost:8080/"
    },
    "executionInfo": {
     "elapsed": 1405,
     "status": "ok",
     "timestamp": 1609329200448,
     "user": {
      "displayName": "Vinod Biradar",
      "photoUrl": "https://lh3.googleusercontent.com/a-/AOh14GinxZUaidTld_evhf3s6UffIPhMCZta8XcRRXBVWg=s64",
      "userId": "15637846803424639612"
     },
     "user_tz": -330
    },
    "id": "pJ0Ve7YA52TD",
    "outputId": "6f0f8467-39a6-4e65-d7e7-b0102f78452d"
   },
   "outputs": [
    {
     "name": "stdout",
     "output_type": "stream",
     "text": [
      "45\n"
     ]
    }
   ],
   "source": [
    "myreduce(addi,l)"
   ]
  },
  {
   "cell_type": "code",
   "execution_count": 47,
   "metadata": {
    "executionInfo": {
     "elapsed": 1523,
     "status": "ok",
     "timestamp": 1609321597884,
     "user": {
      "displayName": "Vinod Biradar",
      "photoUrl": "https://lh3.googleusercontent.com/a-/AOh14GinxZUaidTld_evhf3s6UffIPhMCZta8XcRRXBVWg=s64",
      "userId": "15637846803424639612"
     },
     "user_tz": -330
    },
    "id": "DmsZo89mxlNq"
   },
   "outputs": [],
   "source": [
    "#''''1.2 Write a Python program to implement your own myfilter() function which works exactly  like Python's built-in function filter() ''''"
   ]
  },
  {
   "cell_type": "code",
   "execution_count": 106,
   "metadata": {
    "executionInfo": {
     "elapsed": 1061,
     "status": "ok",
     "timestamp": 1609329585266,
     "user": {
      "displayName": "Vinod Biradar",
      "photoUrl": "https://lh3.googleusercontent.com/a-/AOh14GinxZUaidTld_evhf3s6UffIPhMCZta8XcRRXBVWg=s64",
      "userId": "15637846803424639612"
     },
     "user_tz": -330
    },
    "id": "WEHRY9JaTu4M"
   },
   "outputs": [],
   "source": [
    "def myfilter(fun, values):\n",
    "    result = list()\n",
    "    for i in values:\n",
    "        if fun(i):\n",
    "            result.append(i)\n",
    "    return result"
   ]
  },
  {
   "cell_type": "code",
   "execution_count": 107,
   "metadata": {
    "executionInfo": {
     "elapsed": 1178,
     "status": "ok",
     "timestamp": 1609329589896,
     "user": {
      "displayName": "Vinod Biradar",
      "photoUrl": "https://lh3.googleusercontent.com/a-/AOh14GinxZUaidTld_evhf3s6UffIPhMCZta8XcRRXBVWg=s64",
      "userId": "15637846803424639612"
     },
     "user_tz": -330
    },
    "id": "M33l5SQogEKK"
   },
   "outputs": [],
   "source": [
    "def fun(x):\n",
    "    if x % 5 == 0:\n",
    "        return True\n",
    "    else:\n",
    "        return False"
   ]
  },
  {
   "cell_type": "code",
   "execution_count": 108,
   "metadata": {
    "colab": {
     "base_uri": "https://localhost:8080/"
    },
    "executionInfo": {
     "elapsed": 1141,
     "status": "ok",
     "timestamp": 1609329592528,
     "user": {
      "displayName": "Vinod Biradar",
      "photoUrl": "https://lh3.googleusercontent.com/a-/AOh14GinxZUaidTld_evhf3s6UffIPhMCZta8XcRRXBVWg=s64",
      "userId": "15637846803424639612"
     },
     "user_tz": -330
    },
    "id": "vwUuQNKvxlE9",
    "outputId": "2436d3d5-ace2-495a-ccda-08975ff0acd7"
   },
   "outputs": [
    {
     "data": {
      "text/plain": [
       "[5]"
      ]
     },
     "execution_count": 108,
     "metadata": {
      "tags": []
     },
     "output_type": "execute_result"
    }
   ],
   "source": [
    "myfilter(fun, l)"
   ]
  },
  {
   "cell_type": "code",
   "execution_count": null,
   "metadata": {
    "id": "TzvfejlSxlA9"
   },
   "outputs": [],
   "source": [
    "''''2. Implement List comprehensions to produce the following lists.  \n",
    "Write List comprehensions to produce the following Lists \n",
    "['A', 'C', 'A', 'D', 'G', 'I', ’L’, ‘ D’] \n",
    "['x', 'xx', 'xxx', 'xxxx', 'y', 'yy', 'yyy', 'yyyy', 'z', 'zz', 'zzz', 'zzzz']  \n",
    "['x', 'y', 'z', 'xx', 'yy', 'zz', 'xxx', 'yyy', 'zzz', 'xxxx', 'yyyy', 'zzzz']  \n",
    "[[2], [3], [4], [3], [4], [5], [4], [5], [6]] [[2, 3, 4, 5], [3, 4, 5, 6],  \n",
    "[4, 5, 6, 7], [5, 6, 7, 8]]\n",
    "[(1, 1), (2, 1), (3, 1), (1, 2), (2, 2), (3, 2), (1, 3), (2, 3), (3, 3)] ''''"
   ]
  },
  {
   "cell_type": "code",
   "execution_count": null,
   "metadata": {
    "colab": {
     "base_uri": "https://localhost:8080/"
    },
    "executionInfo": {
     "elapsed": 1870,
     "status": "ok",
     "timestamp": 1608379918232,
     "user": {
      "displayName": "Vinod Biradar",
      "photoUrl": "https://lh3.googleusercontent.com/a-/AOh14GinxZUaidTld_evhf3s6UffIPhMCZta8XcRRXBVWg=s64",
      "userId": "15637846803424639612"
     },
     "user_tz": -330
    },
    "id": "ExyDcJoixk_3",
    "outputId": "373bab63-0e18-459b-8f4f-34875ecc0c8d"
   },
   "outputs": [
    {
     "name": "stdout",
     "output_type": "stream",
     "text": [
      "['A', 'C', 'A', 'D', 'G', 'I', 'L', 'D']\n"
     ]
    }
   ],
   "source": [
    "l = ['ACADGILD']\n",
    "x = []\n",
    "[x.append(l[i][j]) for i in range(len(l)) for j in range(0,8)]\n",
    "print(x)"
   ]
  },
  {
   "cell_type": "code",
   "execution_count": 11,
   "metadata": {
    "colab": {
     "base_uri": "https://localhost:8080/"
    },
    "executionInfo": {
     "elapsed": 1739,
     "status": "ok",
     "timestamp": 1609314534151,
     "user": {
      "displayName": "Vinod Biradar",
      "photoUrl": "https://lh3.googleusercontent.com/a-/AOh14GinxZUaidTld_evhf3s6UffIPhMCZta8XcRRXBVWg=s64",
      "userId": "15637846803424639612"
     },
     "user_tz": -330
    },
    "id": "gkcIHCPJxkzs",
    "outputId": "a4a4483e-38db-450c-d179-a55d9733ba52"
   },
   "outputs": [
    {
     "name": "stdout",
     "output_type": "stream",
     "text": [
      "['x', 'xx', 'xxx', 'xxxx', 'y', 'yy', 'yyy', 'yyyy', 'z', 'zz', 'zzz', 'zzzz']\n"
     ]
    }
   ],
   "source": [
    "l = list('xyz')\n",
    "x=[]\n",
    "[x.append(i*j) for i in l for j in range(1,5)]\n",
    "print(x)\n"
   ]
  },
  {
   "cell_type": "code",
   "execution_count": 19,
   "metadata": {
    "colab": {
     "base_uri": "https://localhost:8080/"
    },
    "executionInfo": {
     "elapsed": 1711,
     "status": "ok",
     "timestamp": 1609315191554,
     "user": {
      "displayName": "Vinod Biradar",
      "photoUrl": "https://lh3.googleusercontent.com/a-/AOh14GinxZUaidTld_evhf3s6UffIPhMCZta8XcRRXBVWg=s64",
      "userId": "15637846803424639612"
     },
     "user_tz": -330
    },
    "id": "KsEW1YFoAl9-",
    "outputId": "348fed67-e06f-40da-c841-a6b2ad2d4d78"
   },
   "outputs": [
    {
     "data": {
      "text/plain": [
       "['x', 'y', 'z', 'xx', 'yy', 'zz', 'xxx', 'yyy', 'zzz', 'xxxx', 'yyyy', 'zzzz']"
      ]
     },
     "execution_count": 19,
     "metadata": {
      "tags": []
     },
     "output_type": "execute_result"
    }
   ],
   "source": [
    "## ['x', 'y', 'z', 'xx', 'yy', 'zz', 'xxx', 'yyy', 'zzz', 'xxxx', 'yyyy', 'zzzz']\n",
    "[l*i for i in range(1,5) for l in 'xyz'] "
   ]
  },
  {
   "cell_type": "code",
   "execution_count": 32,
   "metadata": {
    "colab": {
     "base_uri": "https://localhost:8080/"
    },
    "executionInfo": {
     "elapsed": 3783,
     "status": "ok",
     "timestamp": 1609320393363,
     "user": {
      "displayName": "Vinod Biradar",
      "photoUrl": "https://lh3.googleusercontent.com/a-/AOh14GinxZUaidTld_evhf3s6UffIPhMCZta8XcRRXBVWg=s64",
      "userId": "15637846803424639612"
     },
     "user_tz": -330
    },
    "id": "KsZPSs5cp1qX",
    "outputId": "13b42185-2a2f-4462-92cc-6d267106484e"
   },
   "outputs": [
    {
     "data": {
      "text/plain": [
       "[[2], [3], [4], [3], [4], [5], [4], [5], [6]]"
      ]
     },
     "execution_count": 32,
     "metadata": {
      "tags": []
     },
     "output_type": "execute_result"
    }
   ],
   "source": [
    "# [[2], [3], [4], [3], [4], [5], [4], [5], [6]] \n",
    "[[x + y] for y in range(3) for x in range(2, 5)]"
   ]
  },
  {
   "cell_type": "code",
   "execution_count": 35,
   "metadata": {
    "colab": {
     "base_uri": "https://localhost:8080/"
    },
    "executionInfo": {
     "elapsed": 1643,
     "status": "ok",
     "timestamp": 1609320556176,
     "user": {
      "displayName": "Vinod Biradar",
      "photoUrl": "https://lh3.googleusercontent.com/a-/AOh14GinxZUaidTld_evhf3s6UffIPhMCZta8XcRRXBVWg=s64",
      "userId": "15637846803424639612"
     },
     "user_tz": -330
    },
    "id": "aOA-wh54p1pL",
    "outputId": "6ac440f0-7710-4530-c5d4-6509170bf95b"
   },
   "outputs": [
    {
     "data": {
      "text/plain": [
       "[[2, 3, 4, 5], [3, 4, 5, 6], [4, 5, 6, 7], [5, 6, 7, 8]]"
      ]
     },
     "execution_count": 35,
     "metadata": {
      "tags": []
     },
     "output_type": "execute_result"
    }
   ],
   "source": [
    "# [[2, 3, 4, 5], [3, 4, 5, 6], [4, 5, 6, 7], [5, 6, 7, 8]]\n",
    "[[i+j for i in range(4)] for j in range(2,6)]"
   ]
  },
  {
   "cell_type": "code",
   "execution_count": 40,
   "metadata": {
    "colab": {
     "base_uri": "https://localhost:8080/"
    },
    "executionInfo": {
     "elapsed": 2046,
     "status": "ok",
     "timestamp": 1609320869929,
     "user": {
      "displayName": "Vinod Biradar",
      "photoUrl": "https://lh3.googleusercontent.com/a-/AOh14GinxZUaidTld_evhf3s6UffIPhMCZta8XcRRXBVWg=s64",
      "userId": "15637846803424639612"
     },
     "user_tz": -330
    },
    "id": "IULDTSfSp1mQ",
    "outputId": "a09fd91b-f59d-494e-8294-d0c6e42861cf"
   },
   "outputs": [
    {
     "data": {
      "text/plain": [
       "[(1, 1), (2, 1), (3, 1), (1, 2), (2, 2), (3, 2), (1, 3), (2, 3), (3, 3)]"
      ]
     },
     "execution_count": 40,
     "metadata": {
      "tags": []
     },
     "output_type": "execute_result"
    }
   ],
   "source": [
    "# [(1, 1), (2, 1), (3, 1), (1, 2), (2, 2), (3, 2), (1, 3), (2, 3), (3, 3)]\n",
    "[(j,i) for i in range(1,4) for j in range(1,4)]"
   ]
  },
  {
   "cell_type": "code",
   "execution_count": null,
   "metadata": {
    "id": "xyEUjYg2hUA9"
   },
   "outputs": [],
   "source": []
  }
 ],
 "metadata": {
  "colab": {
   "authorship_tag": "ABX9TyPyW5ILu4vxNlOJUQ9s9Rsj",
   "collapsed_sections": [],
   "mount_file_id": "1CD6EpRyZ_2AsDe-feDmL2xyKE6UbleXv",
   "name": "Assignment 3.ipynb",
   "provenance": []
  },
  "kernelspec": {
   "display_name": "Python 3",
   "name": "python3"
  }
 },
 "nbformat": 4,
 "nbformat_minor": 0
}
