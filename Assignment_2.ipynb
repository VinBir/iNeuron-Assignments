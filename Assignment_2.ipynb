{
  "nbformat": 4,
  "nbformat_minor": 0,
  "metadata": {
    "colab": {
      "name": "Assignment 2.ipynb",
      "provenance": [],
      "collapsed_sections": []
    },
    "kernelspec": {
      "name": "python3",
      "display_name": "Python 3"
    }
  },
  "cells": [
    {
      "cell_type": "code",
      "metadata": {
        "id": "voYyS_D4zQ7s"
      },
      "source": [
        "''''\r\n",
        "1. Create the below pattern using nested for loop in Python. \r\n",
        "* \r\n",
        "* * \r\n",
        "* * * \r\n",
        "* * * * \r\n",
        "* * * * * \r\n",
        "* * * * \r\n",
        "* * * \r\n",
        "* * \r\n",
        "* \r\n",
        "''''\r\n"
      ],
      "execution_count": null,
      "outputs": []
    },
    {
      "cell_type": "code",
      "metadata": {
        "colab": {
          "base_uri": "https://localhost:8080/"
        },
        "id": "X5bMy-9Iyb_T",
        "outputId": "a8abaa19-f5e6-4ea7-a833-9e40190b4f07"
      },
      "source": [
        "n = 5\r\n",
        "star = '* '\r\n",
        "for i in range(n):\r\n",
        "  f_star = star*i\r\n",
        "  print(f_star)\r\n",
        "for j in range(n):\r\n",
        "  b_star = star*n\r\n",
        "  n = n-1\r\n",
        "  print(b_star)\r\n",
        "\r\n"
      ],
      "execution_count": null,
      "outputs": [
        {
          "output_type": "stream",
          "text": [
            "\n",
            "* \n",
            "* * \n",
            "* * * \n",
            "* * * * \n",
            "* * * * * \n",
            "* * * * \n",
            "* * * \n",
            "* * \n",
            "* \n"
          ],
          "name": "stdout"
        }
      ]
    },
    {
      "cell_type": "code",
      "metadata": {
        "id": "aASzHBGvzQNz"
      },
      "source": [
        "''''2. Write a Python program to reverse a word after accepting the input from the user. Sample Output: \r\n",
        "Input word: ineuron\r\n",
        "Output: norueni\r\n",
        "''''"
      ],
      "execution_count": null,
      "outputs": []
    },
    {
      "cell_type": "code",
      "metadata": {
        "colab": {
          "base_uri": "https://localhost:8080/",
          "height": 35
        },
        "id": "_8s5l_Uw0iLy",
        "outputId": "27a7d532-0d8a-458b-dbe0-f005817778ae"
      },
      "source": [
        "s= \"iNeuron\"\r\n",
        "s[::-1 ]"
      ],
      "execution_count": null,
      "outputs": [
        {
          "output_type": "execute_result",
          "data": {
            "application/vnd.google.colaboratory.intrinsic+json": {
              "type": "string"
            },
            "text/plain": [
              "'norueNi'"
            ]
          },
          "metadata": {
            "tags": []
          },
          "execution_count": 8
        }
      ]
    }
  ]
}