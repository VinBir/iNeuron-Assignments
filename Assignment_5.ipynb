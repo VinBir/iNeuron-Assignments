{
  "nbformat": 4,
  "nbformat_minor": 0,
  "metadata": {
    "colab": {
      "name": "Assignment_5.ipynb",
      "provenance": [],
      "collapsed_sections": []
    },
    "kernelspec": {
      "name": "python3",
      "display_name": "Python 3"
    }
  },
  "cells": [
    {
      "cell_type": "code",
      "metadata": {
        "id": "hdG4eSj5nrQn"
      },
      "source": [
        "# 1. Write a function to compute 5/0 and use try/except to catch the exceptions. \r\n"
      ],
      "execution_count": null,
      "outputs": []
    },
    {
      "cell_type": "code",
      "metadata": {
        "id": "OZZk80EQn0R9"
      },
      "source": [
        "#n = input(\"Please insert a number : \")\r\n",
        "def infin(integer1,integer2):\r\n",
        "  try:\r\n",
        "    x = integer1/integer2\r\n",
        "    print(\"Divisiable\")\r\n",
        "  except ZeroDivisionError:\r\n",
        "    print(\"Not Divisible\")"
      ],
      "execution_count": 22,
      "outputs": []
    },
    {
      "cell_type": "code",
      "metadata": {
        "id": "rvczCySYn0GM",
        "colab": {
          "base_uri": "https://localhost:8080/"
        },
        "outputId": "b9501678-10f4-4453-c5ec-5151888dde95"
      },
      "source": [
        "infin(5,0)"
      ],
      "execution_count": 24,
      "outputs": [
        {
          "output_type": "stream",
          "text": [
            "Not Divisible\n"
          ],
          "name": "stdout"
        }
      ]
    },
    {
      "cell_type": "code",
      "metadata": {
        "id": "Wn0c1x3on0Es"
      },
      "source": [
        "''''2. Implement a Python program to generate all sentences where subject is in  [\"Americans\", \"Indians\"] and verb is in [\"Play\", \"watch\"]\r\n",
        "and the object is in  [\"Baseball\",\"cricket\"]. \r\n",
        "Hint: Subject,Verb and Object should be declared in the program as shown below. \r\n",
        "subjects=[\"Americans \",\"Indians\"] \r\n",
        "verbs=[\"play\",\"watch\"] \r\n",
        "objects=[\"Baseball\",\"Cricket\"] \r\n",
        "Output should come as below: \r\n",
        "Americans play Baseball. \r\n",
        "Americans play Cricket. \r\n",
        "Americans watch Baseball. \r\n",
        "Americans watch Cricket. \r\n",
        "Indians play Baseball. \r\n",
        "Indians play Cricket. \r\n",
        "Indians watch Baseball. \r\n",
        "Indians watch Cricket. \r\n",
        "NOTE:ThesolutionsharedthroughGithubshouldcontainthesource codeusedandthe screenshotoftheoutput.''''"
      ],
      "execution_count": 24,
      "outputs": []
    },
    {
      "cell_type": "code",
      "metadata": {
        "id": "_WQ15X2cn0CB",
        "colab": {
          "base_uri": "https://localhost:8080/"
        },
        "outputId": "76e8def6-973d-431c-bb75-388c4235d4e4"
      },
      "source": [
        "subjects=[\"Americans\",\"Indians\"] \r\n",
        "verbs=[\"play\",\"watch\"] \r\n",
        "objects=[\"Baseball\",\"Cricket\"] \r\n",
        "\r\n",
        "for i in subjects:\r\n",
        "  for j in verbs:\r\n",
        "    for k in objects:\r\n",
        "      print(i+ \" \" +j+ \" \" +k)"
      ],
      "execution_count": 25,
      "outputs": [
        {
          "output_type": "stream",
          "text": [
            "Americans play Baseball\n",
            "Americans play Cricket\n",
            "Americans watch Baseball\n",
            "Americans watch Cricket\n",
            "Indians play Baseball\n",
            "Indians play Cricket\n",
            "Indians watch Baseball\n",
            "Indians watch Cricket\n"
          ],
          "name": "stdout"
        }
      ]
    },
    {
      "cell_type": "code",
      "metadata": {
        "id": "ZBpMpqTCnz_U"
      },
      "source": [
        ""
      ],
      "execution_count": null,
      "outputs": []
    }
  ]
}